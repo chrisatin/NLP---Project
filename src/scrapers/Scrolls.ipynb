{
 "cells": [
  {
   "cell_type": "code",
   "execution_count": 13,
   "id": "17c6ef21",
   "metadata": {},
   "outputs": [
    {
     "data": {
      "text/plain": [
       "True"
      ]
     },
     "execution_count": 13,
     "metadata": {},
     "output_type": "execute_result"
    }
   ],
   "source": [
    "from selenium import webdriver\n",
    "from selenium.webdriver.firefox.service import Service\n",
    "from time import sleep\n",
    "from selenium.webdriver.support.ui import WebDriverWait\n",
    "from selenium.webdriver.common.by import By\n",
    "from selenium.webdriver.support import expected_conditions as EC\n",
    "from selenium.webdriver.common.keys import Keys\n",
    "from dotenv import load_dotenv, dotenv_values \n",
    "import re\n",
    "import os\n",
    "\n",
    "from datetime import datetime\n",
    "load_dotenv()\n"
   ]
  },
  {
   "cell_type": "code",
   "execution_count": 14,
   "id": "5e92d1a0",
   "metadata": {},
   "outputs": [],
   "source": [
    "# @title configurar driver para chrome\n",
    "options = webdriver.ChromeOptions()\n",
    "# options.add_argument(\"--headless\")  \n",
    "#Para no tener la interfaz grafica\n",
    "prefs = {\"profile.default_content_setting_values.notifications\" : 2}\n",
    "driver = webdriver.Chrome(options=options)"
   ]
  },
  {
   "cell_type": "code",
   "execution_count": 15,
   "id": "4ba1f68a",
   "metadata": {},
   "outputs": [],
   "source": [
    "email_value= os.getenv('email') #sus datos\n",
    "pass_value= os.getenv('pass')\n",
    "if not email_value or not pass_value:\n",
    "    raise ValueError(\"Please set 'email' and 'pass' in your .env file.\")\n",
    "\n",
    "driver.get(\"https://www.facebook.com\")\n",
    "\n",
    "#cargar credenciales\n",
    "emailelement = driver.find_element(By.XPATH,'//*[@id=\"email\"]')\n",
    "emailelement.send_keys(email_value)\n",
    "passelement = driver.find_element(By.XPATH,'//*[@id=\"pass\"]')\n",
    "passelement.send_keys(pass_value)\n",
    "loginelement = driver.find_element(By.NAME, \"login\")\n",
    "loginelement.click()\n",
    "sleep(2)"
   ]
  },
  {
   "cell_type": "code",
   "execution_count": null,
   "id": "845cce2f",
   "metadata": {},
   "outputs": [],
   "source": [
    "groups_links_list = [\n",
    "       \" https://www.facebook.com/groups/973136421423238/\", \"https://www.facebook.com/groups/1287841212267472/\", \"https://www.facebook.com/groups/1736164896891333\"\n",
    "    ] # Añada aquí los enlaces de los grupos que desea visitar\n",
    "\n",
    "\n",
    "for group in groups_links_list:\n",
    "    driver.get(group)\n",
    "    sleep(2)    \n",
    "    body = driver.find_element(By.TAG_NAME, 'body')\n",
    "    for _ in range(50):  #número de scrolls que se hacen por página\n",
    "        body.send_keys(Keys.PAGE_DOWN)\n",
    "        sleep(3)\n",
    "        print(f\"Scrolling group {group} - Scroll {_+1} of 500\")"
   ]
  }
 ],
 "metadata": {
  "kernelspec": {
   "display_name": ".venv",
   "language": "python",
   "name": "python3"
  },
  "language_info": {
   "codemirror_mode": {
    "name": "ipython",
    "version": 3
   },
   "file_extension": ".py",
   "mimetype": "text/x-python",
   "name": "python",
   "nbconvert_exporter": "python",
   "pygments_lexer": "ipython3",
   "version": "3.13.3"
  }
 },
 "nbformat": 4,
 "nbformat_minor": 5
}
