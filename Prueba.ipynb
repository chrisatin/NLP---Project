{
 "cells": [
  {
   "cell_type": "code",
   "execution_count": 13,
   "id": "17c6ef21",
   "metadata": {},
   "outputs": [
    {
     "data": {
      "text/plain": [
       "True"
      ]
     },
     "execution_count": 13,
     "metadata": {},
     "output_type": "execute_result"
    }
   ],
   "source": [
    "from selenium import webdriver\n",
    "from selenium.webdriver.firefox.service import Service\n",
    "from time import sleep\n",
    "from selenium.webdriver.support.ui import WebDriverWait\n",
    "from selenium.webdriver.common.by import By\n",
    "from selenium.webdriver.support import expected_conditions as EC\n",
    "from selenium.webdriver.common.keys import Keys\n",
    "from dotenv import load_dotenv, dotenv_values \n",
    "import re\n",
    "import os\n",
    "\n",
    "from datetime import datetime\n",
    "load_dotenv()\n"
   ]
  },
  {
   "cell_type": "code",
   "execution_count": 14,
   "id": "5e92d1a0",
   "metadata": {},
   "outputs": [],
   "source": [
    "# @title configurar driver para chrome\n",
    "options = webdriver.ChromeOptions()\n",
    "# options.add_argument(\"--headless\")  \n",
    "#Para no tener la interfaz grafica\n",
    "prefs = {\"profile.default_content_setting_values.notifications\" : 2}\n",
    "driver = webdriver.Chrome(options=options)"
   ]
  },
  {
   "cell_type": "code",
   "execution_count": 15,
   "id": "4ba1f68a",
   "metadata": {},
   "outputs": [],
   "source": [
    "email_value= os.getenv('email') #sus datos\n",
    "pass_value= os.getenv('pass')\n",
    "if not email_value or not pass_value:\n",
    "    raise ValueError(\"Please set 'email' and 'pass' in your .env file.\")\n",
    "\n",
    "driver.get(\"https://www.facebook.com\")\n",
    "\n",
    "#cargar credenciales\n",
    "emailelement = driver.find_element(By.XPATH,'//*[@id=\"email\"]')\n",
    "emailelement.send_keys(email_value)\n",
    "passelement = driver.find_element(By.XPATH,'//*[@id=\"pass\"]')\n",
    "passelement.send_keys(pass_value)\n",
    "loginelement = driver.find_element(By.NAME, \"login\")\n",
    "loginelement.click()\n",
    "sleep(2)"
   ]
  },
  {
   "cell_type": "code",
   "execution_count": null,
   "id": "845cce2f",
   "metadata": {},
   "outputs": [],
   "source": [
    "groups_links_list = [\n",
    "       \" https://www.facebook.com/groups/973136421423238/\"\n",
    "    #    , \"https://www.facebook.com/groups/1287841212267472/\", \"https://www.facebook.com/groups/1736164896891333\"\n",
    "    ] #acá pegué todos los grupos de facebook uis que encontré\n",
    "\n",
    "\n",
    "for group in groups_links_list:\n",
    "    driver.get(group)\n",
    "    sleep(2)    \n",
    "    body = driver.find_element(By.TAG_NAME, 'body')\n",
    "    for _ in range(50):  #número de scrolls que se hacen por página\n",
    "        body.send_keys(Keys.PAGE_DOWN)\n",
    "        sleep(3)\n",
    "        print(f\"Scrolling group {group} - Scroll {_+1} of 500\")"
   ]
  },
  {
   "cell_type": "code",
   "execution_count": null,
   "id": "f5ed963d",
   "metadata": {},
   "outputs": [
    {
     "name": "stdout",
     "output_type": "stream",
     "text": [
      "Esto es una prueba\n",
      "Aqui otra oración\n",
      "oración 3… Ver más\n",
      "Hola encontré este termo en el coliseo por los lados de los baños el que sea el dueño que me escriba al 3184279337\n"
     ]
    }
   ],
   "source": [
    "groups_links_list = [\n",
    "       \" https://www.facebook.com/groups/973136421423238/\", \"https://www.facebook.com/groups/1287841212267472/\", \"https://www.facebook.com/groups/1736164896891333\"\n",
    "    ] #acá pegué todos los grupos de facebook uis que encontré\n",
    "\n",
    "\n",
    "for group in groups_links_list:\n",
    "    driver.get(group)\n",
    "    sleep(2)    \n",
    "    body = driver.find_element(By.TAG_NAME, 'body')\n",
    "    for _ in range(15):  #número de scrolls que se hacen por página\n",
    "        body.send_keys(Keys.PAGE_DOWN)\n",
    "        sleep(3)\n",
    "\n",
    "    #encontrar spans que contienen posts, si le dan a inspeccionar pag en cada post, estos se encuentran contenidos en un span\n",
    "    #la clase de estos es span es class=\"x193iq5w xeuugli x13faqbe x1vvkbs x1xmvt09 x1lliihq x1s928wv xhkezso x1gmr53x x1cpjm7i x1fgarty x1943h6x xudqn12 x3x7a5m x6prxxf xvq8zen xo1l8bm xzsf02u x1yc453h\"\n",
    "    contenedores = driver.find_elements(By.CSS_SELECTOR, \"span.x193iq5w.xeuugli.x13faqbe.x1vvkbs.x1xmvt09.x1lliihq.x1s928wv.xhkezso.x1gmr53x.x1cpjm7i.x1fgarty.x1943h6x.xudqn12.x3x7a5m.x6prxxf.xvq8zen.xo1l8bm.xzsf02u.x1yc453h\")\n",
    "\n",
    "    #recorrer cada div y extraer el texto ubicado en dir=\"auto\" style=\"text-align: start;\"\n",
    "    for contenedor in contenedores:\n",
    "\n",
    "        try: #el botón ver más tiene la clase class=\"x1i10hfl xjbqb8w x1ejq31n xd10rxx x1sy0etr x17r0tee x972fbf xcfux6l x1qhh985 xm0m39n x9f619 x1ypdohk xt0psk2 xe8uvvx xdj266r x11i5rnm xat24cr x1mh8g0r xexx8yu x4uap5 x18d9i69 xkhd6sd x16tdsg8 x1hl2dhg xggy1nq x1a2a7pz xkrqix3 x1sur9pj xzsf02u x1s688f\"\n",
    "            ver_mas_btn = contenedor.find_element(By.CSS_SELECTOR, \"div.x1i10hfl.xjbqb8w.x1ejq31n.xd10rxx.x1sy0etr\") #hay que darle click a este para poder ver la totalidad de los mensajes\n",
    "            ver_mas_btn.click()\n",
    "            sleep(2)\n",
    "\n",
    "            #extrae el texto completo después de hacer clic\n",
    "            textos_expandidos = contenedor.find_elements(By.CSS_SELECTOR, \"input[dir='auto'][style='text-align: start;']\")\n",
    "            for texto in textos_expandidos:\n",
    "                print(texto.text)  #print del texto después de hacer clic\n",
    "        except:\n",
    "            textos = contenedor.find_elements(By.CSS_SELECTOR, \"div[dir='auto'][style='text-align: start;']\")\n",
    "            for texto in textos:\n",
    "                print(texto.text)  #print del texto en caso de no haber una opcion de ver mas"
   ]
  }
 ],
 "metadata": {
  "kernelspec": {
   "display_name": ".venv",
   "language": "python",
   "name": "python3"
  },
  "language_info": {
   "codemirror_mode": {
    "name": "ipython",
    "version": 3
   },
   "file_extension": ".py",
   "mimetype": "text/x-python",
   "name": "python",
   "nbconvert_exporter": "python",
   "pygments_lexer": "ipython3",
   "version": "3.13.3"
  }
 },
 "nbformat": 4,
 "nbformat_minor": 5
}
